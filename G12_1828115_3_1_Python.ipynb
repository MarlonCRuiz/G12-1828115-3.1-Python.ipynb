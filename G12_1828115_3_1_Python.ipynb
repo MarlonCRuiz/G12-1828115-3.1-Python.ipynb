{
  "nbformat": 4,
  "nbformat_minor": 0,
  "metadata": {
    "colab": {
      "provenance": []
    },
    "kernelspec": {
      "name": "python3",
      "display_name": "Python 3"
    },
    "language_info": {
      "name": "python"
    }
  },
  "cells": [
    {
      "cell_type": "markdown",
      "source": [
        "##FACPYA\n",
        "##LTI\n",
        "##Maestro: Jose Felipe Ramirez Ramirez\n",
        "##Grupo:12\n",
        "#Nombre:Marlon Cristo Ruiz Vazquez\n",
        "#Matricula:1828115\n",
        "#Fecha:12 de noviembre del 2023\n"
      ],
      "metadata": {
        "id": "6AeBcwnEh_92"
      }
    },
    {
      "cell_type": "markdown",
      "source": [
        "PROGRAMA DE CASO\n",
        "\n",
        "Se organiza un evento de entusiastas de la música en un bar de la ciudad, donde habrá música en vivo, y la entrada es a cambio de una cooperación voluntaria con fines de caridad. Para entrar, todas las personas deben tener un boleto, que está numerado, y que va del 100 al 999.\n",
        "\n",
        "Cada persona, al entrar, registra su número de boleto, posteriormente, debe registrar su correo electrónico, su nombre, sus apellidos, clave de sexo (M=Masculino, F=Femenino, N=No binario), y la aportación voluntaria que desea hacer, misma que paga en ese momento.\n",
        "\n",
        "Todos los textos deben estar convertidos a mayúsculas. No se programan validaciones: los datos se capturarán siguiendo Happy Path (escenario de funcionamiento ideal, donde vamos capturando lo que sabemos que funciona sin problemas).\n",
        "\n",
        "El programa captura los datos en un ciclo continuo, del cuál solo se puede salir omitiendo el número de boleto cuando se solicita. Cuando se registran los datos de un participante, el programa nos dirá “Gracias, contigo ya somos {asistentes} personas, y hemos recaudado ${monto_acumulado} hasta el momento”. Donde asistentes será un contador de las personas que se han registrado, mientras que monto_acumulado es un acumulador que va sumando todas las aportaciones voluntarias que se vayan haciendo. El programa solo debe validar que los datos sean del tipo correcto, usando Try Catch.\n",
        "\n",
        "Cuando en la captura del número de boleto se omita el número de boleto, el programa deberá preguntar si ya quieres abandonar el programa. Si contestas que NO, seguirá preguntando datos. Si le dices que SI, deberá mostrar una tabla donde se muestren todos los datos capturados, si le das algo diferente de SI o NO, debe decirte que no se reconoce la acción, y que intente de nuevo.\n",
        "\n",
        "Además, deberá mostrarse qué porcentaje de personas se identificaron como del sexo masculino (M), femenino (F), o no binario (N).\n",
        "\n",
        "Los datos deben guardarse en un diccionario, donde la llave es el número de boleto, mientras que el resto de los datos deberán guardarse primero en una lista, misma que se guardará como valor de la entrada del diccionario.\n",
        "\n",
        "No se debe permitir la captura de un mismo número de boleto dos veces. Si se intenta, el programa deberá decir “Error de captura. Ese boleto ya está capturado. Intenta con otro.”, y vuelve a capturar."
      ],
      "metadata": {
        "id": "0FnhJCngiFm_"
      }
    },
    {
      "cell_type": "code",
      "source": [
        "asistentes = 0\n",
        "monto_acumulado = 0\n",
        "datos_participantes = {}\n",
        "def mostrar_porcentaje_genero():\n",
        "    total_personas = len(datos_participantes)\n",
        "    porcentaje_m = sum(1 for datos in datos_participantes.values() if datos[3] == 'M') / total_personas * 100\n",
        "    porcentaje_f = sum(1 for datos in datos_participantes.values() if datos[3] == 'F') / total_personas * 100\n",
        "    porcentaje_n = sum(1 for datos in datos_participantes.values() if datos[3] == 'N') / total_personas * 100\n",
        "    print(f\"\\nPorcentaje de personas por género:\")\n",
        "    print(f\"Masculino (M): {porcentaje_m:.2f}%\")\n",
        "    print(f\"Femenino (F): {porcentaje_f:.2f}%\")\n",
        "    print(f\"No binario (N): {porcentaje_n:.2f}%\")\n",
        "while True:\n",
        "    try:\n",
        "        numero_boleto = int(input(\"\\nIngrese el número de boleto (100-999), o presione Enter para salir: \"))\n",
        "        if numero_boleto < 100 or numero_boleto > 999:\n",
        "            print(\"Error: El número de boleto debe estar entre 100 y 999. Intente de nuevo.\")\n",
        "            continue\n",
        "        if numero_boleto in datos_participantes:\n",
        "            print(\"Error de captura. Ese boleto ya está capturado. Intenta con otro.\")\n",
        "            continue\n",
        "        correo = input(\"Ingrese su correo electrónico: \").upper()\n",
        "        nombre = input(\"Ingrese su nombre: \").upper()\n",
        "        apellidos = input(\"Ingrese sus apellidos: \").upper()\n",
        "        sexo = input(\"Ingrese su clave de sexo (M=Masculino, F=Femenino, N=No binario): \").upper()\n",
        "        aportacion = float(input(\"Ingrese la aportación voluntaria que desea hacer: \"))\n",
        "\n",
        "        if aportacion < 0:\n",
        "            print(\"Error: La aportación no puede ser negativa. Intente de nuevo.\")\n",
        "            continue\n",
        "        datos_participantes[numero_boleto] = [correo, nombre, apellidos, sexo, aportacion]\n",
        "        asistentes += 1\n",
        "        monto_acumulado += aportacion\n",
        "        print(f\"\\nGracias, contigo ya somos {asistentes} personas, y hemos recaudado ${monto_acumulado} hasta el momento.\")\n",
        "\n",
        "    except ValueError:\n",
        "        print(\"Error: Por favor, ingrese un número válido.\")\n",
        "        continue\n",
        "    except KeyboardInterrupt:\n",
        "        print(\"\\n\\n¡Hasta luego!\")\n",
        "        break\n",
        "    respuesta = input(\"\\n¿Desea salir del programa? (SI/NO): \").upper()\n",
        "    if respuesta == \"SI\":\n",
        "        print(\"\\nTabla de datos:\")\n",
        "        print(\"Número de Boleto | Correo | Nombre | Apellidos | Sexo | Aportación\")\n",
        "        for num_boleto, datos in datos_participantes.items():\n",
        "            print(f\"{num_boleto} | {' | '.join(map(str, datos))}\")\n",
        "\n",
        "        mostrar_porcentaje_genero()\n",
        "        print(\"\\n¡Hasta luego!\")\n",
        "        break\n",
        "    elif respuesta != \"NO\":\n",
        "        print(\"Acción no reconocida. Intente de nuevo.\")\n",
        "        continue\n"
      ],
      "metadata": {
        "id": "03UbPE1LnvhI"
      },
      "execution_count": null,
      "outputs": []
    },
    {
      "cell_type": "markdown",
      "source": [
        "Mi experiencia al elaborar este codigo fue que este codigo estuvo mas complicado que otros codigos que he hecho hasta ahora. Pero sin duda fue una buena experiencia ya que si algun dia requiero y o alguien mas requiere de un codigo parecido para capturar y almacenar datos, yo ya sabre como hacerlo.\n",
        "\n",
        "My experience in creating this code was that it was more complicated than other codes I have done so far. However, it was undoubtedly a good experience because if I or someone else ever needs a similar code to capture and store data, I will already know how to do it.\n"
      ],
      "metadata": {
        "id": "t8f2Ah66vB9g"
      }
    },
    {
      "cell_type": "markdown",
      "source": [
        "https://colab.research.google.com/drive/1w--TZjRUgr20IuuCEovxaSN-6K6w3GoZ"
      ],
      "metadata": {
        "id": "KsBoe4DLxtsD"
      }
    }
  ]
}